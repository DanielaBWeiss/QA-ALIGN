{
 "cells": [
  {
   "cell_type": "code",
   "execution_count": 1,
   "metadata": {},
   "outputs": [
    {
     "name": "stderr",
     "output_type": "stream",
     "text": [
      "/Users/danielastepanov/miniconda3/envs/qa-align/lib/python3.6/site-packages/ipykernel_launcher.py:11: FutureWarning: Passing a negative integer is deprecated in version 1.0 and will not be supported in future version. Instead, use None to not limit the column width.\n",
      "  # This is added back by InteractiveShellApp.init_path()\n"
     ]
    }
   ],
   "source": [
    "import pandas as pd\n",
    "import os\n",
    "from collections import defaultdict\n",
    "import pickle\n",
    "import json\n",
    "import itertools\n",
    "# Set ipython's max row display\n",
    "pd.set_option('display.max_rows', None)\n",
    "pd.set_option('display.max_columns', None)\n",
    "pd.set_option('display.width', None)\n",
    "pd.set_option('display.max_colwidth', -1)"
   ]
  },
  {
   "cell_type": "markdown",
   "metadata": {},
   "source": [
    "## Get your data files (for this example we used a fusion dataset)\n",
    "    Use this notebook as an example when preparing your data to run QA-Align model on it. This notebook is not runnable."
   ]
  },
  {
   "cell_type": "code",
   "execution_count": 7,
   "metadata": {},
   "outputs": [],
   "source": [
    "train = pd.read_csv(\"../../../MultiDocumentFusion/data/train/extended_doc-pyr_train.csv\")\n",
    "dev = pd.read_csv(\"../../../MultiDocumentFusion/data/train/extended_doc-pyr_dev.csv\")\n",
    "test = pd.read_csv(\"../../../MultiDocumentFusion/data/train/extended_doc-pyr_test.csv\")"
   ]
  },
  {
   "cell_type": "code",
   "execution_count": 107,
   "metadata": {},
   "outputs": [
    {
     "data": {
      "text/html": [
       "<div>\n",
       "<style scoped>\n",
       "    .dataframe tbody tr th:only-of-type {\n",
       "        vertical-align: middle;\n",
       "    }\n",
       "\n",
       "    .dataframe tbody tr th {\n",
       "        vertical-align: top;\n",
       "    }\n",
       "\n",
       "    .dataframe thead th {\n",
       "        text-align: right;\n",
       "    }\n",
       "</style>\n",
       "<table border=\"1\" class=\"dataframe\">\n",
       "  <thead>\n",
       "    <tr style=\"text-align: right;\">\n",
       "      <th></th>\n",
       "      <th>scu_label</th>\n",
       "      <th>abs_sent_id</th>\n",
       "      <th>text</th>\n",
       "      <th>scu_text_spans</th>\n",
       "      <th>scu_spans</th>\n",
       "      <th>start_char_idx</th>\n",
       "      <th>end_char_idx</th>\n",
       "      <th>prev_text</th>\n",
       "      <th>prev_text_abs_sent_id</th>\n",
       "      <th>scu_uid</th>\n",
       "      <th>abs_scu_id</th>\n",
       "      <th>year</th>\n",
       "      <th>topic</th>\n",
       "      <th>source</th>\n",
       "      <th>has_verb</th>\n",
       "      <th>scu_span_ratio</th>\n",
       "      <th>span_len</th>\n",
       "      <th>w_overlap</th>\n",
       "      <th>source_short_long</th>\n",
       "      <th>text_len</th>\n",
       "      <th>label_len</th>\n",
       "      <th>min_w_overlap</th>\n",
       "      <th>label_to_scu_ratio</th>\n",
       "      <th>one_contributor</th>\n",
       "      <th>one_short_or_long_source</th>\n",
       "      <th>no_source_span_ratio</th>\n",
       "      <th>prev_scu_label</th>\n",
       "      <th>document</th>\n",
       "      <th>weight</th>\n",
       "      <th>stripped_id</th>\n",
       "    </tr>\n",
       "  </thead>\n",
       "  <tbody>\n",
       "    <tr>\n",
       "      <th>0</th>\n",
       "      <td>Trial was named Kitzmiller vs. Dover Area School District</td>\n",
       "      <td>TAC2008~!~D0834-B-CDEF~!~12</td>\n",
       "      <td>For three weeks plaintiffs in the Kitzmiller vs. Dover Area School District trial presented expert witnesses who testified that intelligent design does not meet the definition of science because it cannot be proved or disproved.</td>\n",
       "      <td>['Kitzmiller vs. Dover Area School District trial']</td>\n",
       "      <td>[(34, 81)]</td>\n",
       "      <td>786.0</td>\n",
       "      <td>1014.0</td>\n",
       "      <td>-----------------</td>\n",
       "      <td>TAC2008~!~D0834-B-CDEF~!~1</td>\n",
       "      <td>6</td>\n",
       "      <td>TAC2008~!~D0834-B-CDEF~!~6~!~SCU</td>\n",
       "      <td>2008</td>\n",
       "      <td>D0834-B-CDEF</td>\n",
       "      <td>reference_summary_sentence</td>\n",
       "      <td>True</td>\n",
       "      <td>0.200000</td>\n",
       "      <td>7.0</td>\n",
       "      <td>7</td>\n",
       "      <td>True</td>\n",
       "      <td>35</td>\n",
       "      <td>9</td>\n",
       "      <td>7</td>\n",
       "      <td>1.285714</td>\n",
       "      <td>True</td>\n",
       "      <td>False</td>\n",
       "      <td>False</td>\n",
       "      <td>NaN</td>\n",
       "      <td>NaN</td>\n",
       "      <td>NaN</td>\n",
       "      <td>2008~!~D0834-B-CDEF~!~6~!~SCU</td>\n",
       "    </tr>\n",
       "    <tr>\n",
       "      <th>2</th>\n",
       "      <td>Plaintiffs argued that ID is not [testable] science</td>\n",
       "      <td>TAC2008~!~D0834-B-CDEF~!~12</td>\n",
       "      <td>For three weeks plaintiffs in the Kitzmiller vs. Dover Area School District trial presented expert witnesses who testified that intelligent design does not meet the definition of science because it cannot be proved or disproved.</td>\n",
       "      <td>['plaintiffs', 'presented expert witnesses who testified that intelligent design does not meet the definition of science because it cannot be proved or disproved']</td>\n",
       "      <td>[(16, 26), (82, 227)]</td>\n",
       "      <td>786.0</td>\n",
       "      <td>1014.0</td>\n",
       "      <td>-----------------</td>\n",
       "      <td>TAC2008~!~D0834-B-CDEF~!~1</td>\n",
       "      <td>7</td>\n",
       "      <td>TAC2008~!~D0834-B-CDEF~!~7~!~SCU</td>\n",
       "      <td>2008</td>\n",
       "      <td>D0834-B-CDEF</td>\n",
       "      <td>reference_summary_sentence</td>\n",
       "      <td>True</td>\n",
       "      <td>0.657143</td>\n",
       "      <td>23.0</td>\n",
       "      <td>2</td>\n",
       "      <td>True</td>\n",
       "      <td>35</td>\n",
       "      <td>8</td>\n",
       "      <td>2</td>\n",
       "      <td>0.533333</td>\n",
       "      <td>False</td>\n",
       "      <td>False</td>\n",
       "      <td>False</td>\n",
       "      <td>NaN</td>\n",
       "      <td>NaN</td>\n",
       "      <td>NaN</td>\n",
       "      <td>2008~!~D0834-B-CDEF~!~7~!~SCU</td>\n",
       "    </tr>\n",
       "  </tbody>\n",
       "</table>\n",
       "</div>"
      ],
      "text/plain": [
       "                                                   scu_label  \\\n",
       "0  Trial was named Kitzmiller vs. Dover Area School District   \n",
       "2  Plaintiffs argued that ID is not [testable] science         \n",
       "\n",
       "                   abs_sent_id  \\\n",
       "0  TAC2008~!~D0834-B-CDEF~!~12   \n",
       "2  TAC2008~!~D0834-B-CDEF~!~12   \n",
       "\n",
       "                                                                                                                                                                                                                                   text  \\\n",
       "0  For three weeks plaintiffs in the Kitzmiller vs. Dover Area School District trial presented expert witnesses who testified that intelligent design does not meet the definition of science because it cannot be proved or disproved.   \n",
       "2  For three weeks plaintiffs in the Kitzmiller vs. Dover Area School District trial presented expert witnesses who testified that intelligent design does not meet the definition of science because it cannot be proved or disproved.   \n",
       "\n",
       "                                                                                                                                                        scu_text_spans  \\\n",
       "0  ['Kitzmiller vs. Dover Area School District trial']                                                                                                                   \n",
       "2  ['plaintiffs', 'presented expert witnesses who testified that intelligent design does not meet the definition of science because it cannot be proved or disproved']   \n",
       "\n",
       "               scu_spans  start_char_idx  end_char_idx          prev_text  \\\n",
       "0  [(34, 81)]             786.0           1014.0        -----------------   \n",
       "2  [(16, 26), (82, 227)]  786.0           1014.0        -----------------   \n",
       "\n",
       "        prev_text_abs_sent_id  scu_uid                        abs_scu_id  \\\n",
       "0  TAC2008~!~D0834-B-CDEF~!~1  6        TAC2008~!~D0834-B-CDEF~!~6~!~SCU   \n",
       "2  TAC2008~!~D0834-B-CDEF~!~1  7        TAC2008~!~D0834-B-CDEF~!~7~!~SCU   \n",
       "\n",
       "   year         topic                      source  has_verb  scu_span_ratio  \\\n",
       "0  2008  D0834-B-CDEF  reference_summary_sentence  True      0.200000         \n",
       "2  2008  D0834-B-CDEF  reference_summary_sentence  True      0.657143         \n",
       "\n",
       "   span_len  w_overlap  source_short_long  text_len  label_len  min_w_overlap  \\\n",
       "0  7.0       7          True               35        9          7               \n",
       "2  23.0      2          True               35        8          2               \n",
       "\n",
       "   label_to_scu_ratio  one_contributor  one_short_or_long_source  \\\n",
       "0  1.285714            True             False                      \n",
       "2  0.533333            False            False                      \n",
       "\n",
       "   no_source_span_ratio prev_scu_label document  weight  \\\n",
       "0  False                 NaN            NaN     NaN       \n",
       "2  False                 NaN            NaN     NaN       \n",
       "\n",
       "                     stripped_id  \n",
       "0  2008~!~D0834-B-CDEF~!~6~!~SCU  \n",
       "2  2008~!~D0834-B-CDEF~!~7~!~SCU  "
      ]
     },
     "execution_count": 107,
     "metadata": {},
     "output_type": "execute_result"
    }
   ],
   "source": [
    "train2[train2.abs_sent_id == 'TAC2008~!~D0834-B-CDEF~!~12']"
   ]
  },
  {
   "cell_type": "code",
   "execution_count": 29,
   "metadata": {},
   "outputs": [],
   "source": [
    "def get_df_sents(df):\n",
    "    df_sents = df['abs_sent_id'].unique()\n",
    "    print(\"# unique sents: \",len(df_sents))\n",
    "    return df_sents"
   ]
  },
  {
   "cell_type": "code",
   "execution_count": 28,
   "metadata": {},
   "outputs": [],
   "source": [
    "import spacy\n",
    "nlp = spacy.load('en_core_web_sm')\n",
    "def tokenize_sentence(sentence):\n",
    "    tokens = [tok.text for tok in nlp(sentence)]\n",
    "    return tokens"
   ]
  },
  {
   "cell_type": "code",
   "execution_count": 27,
   "metadata": {},
   "outputs": [],
   "source": [
    "def create_and_save_qasrl_input(data_sents, orig_data):\n",
    "    sents = pd.DataFrame(data_sents,columns=['qasrl_id'])\n",
    "    sents['sentence'] = sents['qasrl_id'].apply(lambda x: orig_data[orig_data.abs_sent_id == x]['text'].iloc[0])\n",
    "    sents['tokens'] = sents['sentence'].apply(lambda x: \" \".join(tokenize_sentence(x)))\n",
    "    sents.drop_duplicates(['qasrl_id'],inplace=True)\n",
    "    return sents"
   ]
  },
  {
   "cell_type": "code",
   "execution_count": 26,
   "metadata": {},
   "outputs": [],
   "source": [
    "import json\n",
    "def create_json_qasrl_input(df, output):\n",
    "    with open(output, \"w\") as f:\n",
    "        for i,row in df.iterrows():\n",
    "            sen = {\"qasrl_id\":row['qasrl_id'], \"sentence\": row['sentence'], \"tokens\":row['tokens']}\n",
    "            json.dump(sen, f)\n",
    "            f.write('\\n')"
   ]
  },
  {
   "cell_type": "code",
   "execution_count": 25,
   "metadata": {},
   "outputs": [],
   "source": [
    "def remove_dups(data):\n",
    "    inds_to_remove = []\n",
    "    c = 0\n",
    "    num_dups = []\n",
    "    for i,df in data.groupby(\"qasrl_id\"):\n",
    "        questions_so_far = defaultdict()\n",
    "        found=False\n",
    "        for j,row in df.iterrows():\n",
    "            if row['question'] in questions_so_far:\n",
    "                wrs = set(row['answer'].split())\n",
    "                prev_wrs = set(questions_so_far[row['question']].split())\n",
    "                iou = len(wrs.intersection(prev_wrs))/len(wrs.union(prev_wrs))\n",
    "                if iou == 1:\n",
    "                    print(\"no\")\n",
    "                    inds_to_remove.append(j)\n",
    "            else:\n",
    "                questions_so_far[row['question']] = row['answer']\n",
    "    return inds_to_remove"
   ]
  },
  {
   "cell_type": "markdown",
   "metadata": {},
   "source": [
    "### Getting sentence data into format QASRL parser can accept"
   ]
  },
  {
   "cell_type": "code",
   "execution_count": 30,
   "metadata": {},
   "outputs": [
    {
     "name": "stdout",
     "output_type": "stream",
     "text": [
      "# unique sents:  9066\n",
      "# unique sents:  1592\n",
      "# unique sents:  4767\n"
     ]
    }
   ],
   "source": [
    "train_sents = get_df_sents(train)\n",
    "dev_sents = get_df_sents(dev)\n",
    "test_sents = get_df_sents(test)"
   ]
  },
  {
   "cell_type": "code",
   "execution_count": 56,
   "metadata": {},
   "outputs": [],
   "source": [
    "final_train_sents = create_and_save_qasrl_input(train_sents,train)\n",
    "final_train_sents.to_csv(\"../../data/predict/extended_fusion/train_extended_fusion_sents.csv\", index=False)\n",
    "create_json_qasrl_input(final_train_sents, \"../../data/predict/extended_fusion/train_extended_fusion_sents.json\")\n",
    "\n",
    "final_val_sents = create_and_save_qasrl_input(dev_sents,dev)\n",
    "final_val_sents.to_csv(\"../../data/predict/extended_fusion/val_extended_fusion_sents.csv\", index=False)\n",
    "create_json_qasrl_input(final_val_sents, \"../../data/predict/extended_fusion/val_extended_fusion_sents.json\")\n",
    "\n",
    "final_test_sents = create_and_save_qasrl_input(test_sents,test)\n",
    "final_test_sents.to_csv(\"../../data/predict/extended_fusion/test_extended_fusion_sents.csv\", index=False)\n",
    "create_json_qasrl_input(final_test_sents, \"../../data/predict/extended_fusion/test_extended_fusion_sents.json\")\n"
   ]
  },
  {
   "cell_type": "markdown",
   "metadata": {},
   "source": [
    "## At this point we use a QASRL parser to predict on the above sentence files using the released model: http://github.com/nafitzgerald/ nrl- qasrl"
   ]
  },
  {
   "cell_type": "markdown",
   "metadata": {},
   "source": [
    "### After QASRL prediction"
   ]
  },
  {
   "cell_type": "code",
   "execution_count": 109,
   "metadata": {},
   "outputs": [],
   "source": [
    "with open(\"../../data/predict/extended_fusion/train_extended_fusion_sents_pred.json\") as f:\n",
    "    train_sents = [json.loads(line) for line in f.readlines()]\n",
    "with open(\"../../data/predict/extended_fusion/val_extended_fusion_sents_pred.json\") as f:\n",
    "    val_sents = [json.loads(line) for line in f.readlines()]\n",
    "with open(\"../../data/predict/extended_fusion/test_extended_fusion_sents_pred.json\") as f:\n",
    "    test_sents = [json.loads(line) for line in f.readlines()]"
   ]
  },
  {
   "cell_type": "code",
   "execution_count": 110,
   "metadata": {},
   "outputs": [
    {
     "name": "stdout",
     "output_type": "stream",
     "text": [
      "Number of qas extracted:  55424\n",
      "Number of qas extracted:  8669\n",
      "Number of qas extracted:  30615\n"
     ]
    }
   ],
   "source": [
    "train_qas = format_qasrl(train_sents)\n",
    "val_qas = format_qasrl(val_sents)\n",
    "test_qas = format_qasrl(test_sents)\n",
    "train_post_qasrl = pd.DataFrame(train_qas, columns=['qasrl_id','tokens','verb','question','answer','answer_range', 'verb_idx'])\n",
    "val_post_qasrl = pd.DataFrame(val_qas, columns=['qasrl_id','tokens','verb','question','answer','answer_range', 'verb_idx'])\n",
    "test_post_qasrl = pd.DataFrame(test_qas, columns=['qasrl_id','tokens','verb','question','answer','answer_range', 'verb_idx'])"
   ]
  },
  {
   "cell_type": "code",
   "execution_count": 88,
   "metadata": {},
   "outputs": [],
   "source": [
    "train_post_qasrl.to_csv(\"../../data/predict/extended_fusion/train_extended_fusion_sents_qasrl_gen.csv\",index=False)\n",
    "val_post_qasrl.to_csv(\"../../data/predict/extended_fusion/val_extended_fusion_sents_qasrl_gen.csv\",index=False)\n",
    "test_post_qasrl.to_csv(\"../../data/predict/extended_fusion/test_extended_fusion_sents_qasrl_gen.csv\",index=False)"
   ]
  },
  {
   "cell_type": "code",
   "execution_count": 93,
   "metadata": {},
   "outputs": [],
   "source": [
    "train_post_qasrl = pd.read_csv(\"../../data/predict/extended_fusion/train_extended_fusion_sents_qasrl_gen.csv\")\n",
    "val_post_qasrl = pd.read_csv(\"../../data/predict/extended_fusion/val_extended_fusion_sents_qasrl_gen.csv\")\n",
    "test_post_qasrl = pd.read_csv(\"../../data/predict/extended_fusion/test_extended_fusion_sents_qasrl_gen.csv\")"
   ]
  },
  {
   "cell_type": "markdown",
   "metadata": {},
   "source": [
    "### Once we have the sentence files and the QASRL predicted QAs files, we run: prep_post_qasrl_pre_qaalign.py found under crowdsourcing/QASRL/qasrl_processing/ to combine the two."
   ]
  },
  {
   "cell_type": "markdown",
   "metadata": {},
   "source": [
    "### Then we create sentence pairs (the way we create pairs here is unique to a fusion task. Use any relevant method to pair sentences."
   ]
  },
  {
   "cell_type": "code",
   "execution_count": 121,
   "metadata": {},
   "outputs": [],
   "source": [
    "train_wqas = pd.read_csv(\"../../data/predict/extended_fusion/train_extended_fusion_wqas.csv\")\n",
    "val_wqas = pd.read_csv(\"../../data/predict/extended_fusion/val_extended_fusion_wqas.csv\")\n",
    "test_wqas = pd.read_csv(\"../../data/predict/extended_fusion/test_extended_fusion_wqas.csv\")"
   ]
  },
  {
   "cell_type": "code",
   "execution_count": 128,
   "metadata": {},
   "outputs": [
    {
     "data": {
      "text/plain": [
       "scu_label                   Poachers have endangered wildlife                                                                                                                                                                                                                                                                                                                                                                                                                                                                                                                                                                                                                                                                                                                                                                                                                                                                                                                                                                                                                                                                                                                                                                                                                                                                                                                                                                                                                                                                                                                                                                                                                                                                                                                                                                                                                                                                                                                                                                                                                                                                                                                                                                                               \n",
       "abs_sent_id                 DUC2005~!~109.D407.M.250.B.21~!~80                                                                                                                                                                                                                                                                                                                                                                                                                                                                                                                                                                                                                                                                                                                                                                                                                                                                                                                                                                                                                                                                                                                                                                                                                                                                                                                                                                                                                                                                                                                                                                                                                                                                                                                                                                                                                                                                                                                                                                                                                                                                                                                                                                                              \n",
       "text                        In Africa, species endangered by poaching include elephants, rhinoceroses, buffalo, baboons, chimpanzees, mountain gorillas and rare birds.                                                                                                                                                                                                                                                                                                                                                                                                                                                                                                                                                                                                                                                                                                                                                                                                                                                                                                                                                                                                                                                                                                                                                                                                                                                                                                                                                                                                                                                                                                                                                                                                                                                                                                                                                                                                                                                                                                                                                                                                                                                                                     \n",
       "scu_text_spans              ['species endangered by poaching']                                                                                                                                                                                                                                                                                                                                                                                                                                                                                                                                                                                                                                                                                                                                                                                                                                                                                                                                                                                                                                                                                                                                                                                                                                                                                                                                                                                                                                                                                                                                                                                                                                                                                                                                                                                                                                                                                                                                                                                                                                                                                                                                                                                              \n",
       "scu_spans                   [(11, 41)]                                                                                                                                                                                                                                                                                                                                                                                                                                                                                                                                                                                                                                                                                                                                                                                                                                                                                                                                                                                                                                                                                                                                                                                                                                                                                                                                                                                                                                                                                                                                                                                                                                                                                                                                                                                                                                                                                                                                                                                                                                                                                                                                                                                                                      \n",
       "start_char_idx              8136                                                                                                                                                                                                                                                                                                                                                                                                                                                                                                                                                                                                                                                                                                                                                                                                                                                                                                                                                                                                                                                                                                                                                                                                                                                                                                                                                                                                                                                                                                                                                                                                                                                                                                                                                                                                                                                                                                                                                                                                                                                                                                                                                                                                                            \n",
       "end_char_idx                8276                                                                                                                                                                                                                                                                                                                                                                                                                                                                                                                                                                                                                                                                                                                                                                                                                                                                                                                                                                                                                                                                                                                                                                                                                                                                                                                                                                                                                                                                                                                                                                                                                                                                                                                                                                                                                                                                                                                                                                                                                                                                                                                                                                                                                            \n",
       "prev_text                   ------------------                                                                                                                                                                                                                                                                                                                                                                                                                                                                                                                                                                                                                                                                                                                                                                                                                                                                                                                                                                                                                                                                                                                                                                                                                                                                                                                                                                                                                                                                                                                                                                                                                                                                                                                                                                                                                                                                                                                                                                                                                                                                                                                                                                                                              \n",
       "prev_text_abs_sent_id       DUC2005~!~109.D407.M.250.B.21~!~1                                                                                                                                                                                                                                                                                                                                                                                                                                                                                                                                                                                                                                                                                                                                                                                                                                                                                                                                                                                                                                                                                                                                                                                                                                                                                                                                                                                                                                                                                                                                                                                                                                                                                                                                                                                                                                                                                                                                                                                                                                                                                                                                                                                               \n",
       "scu_uid                     11                                                                                                                                                                                                                                                                                                                                                                                                                                                                                                                                                                                                                                                                                                                                                                                                                                                                                                                                                                                                                                                                                                                                                                                                                                                                                                                                                                                                                                                                                                                                                                                                                                                                                                                                                                                                                                                                                                                                                                                                                                                                                                                                                                                                                              \n",
       "abs_scu_id                  DUC2005~!~109.D407.M.250.B.21~!~11~!~SCU                                                                                                                                                                                                                                                                                                                                                                                                                                                                                                                                                                                                                                                                                                                                                                                                                                                                                                                                                                                                                                                                                                                                                                                                                                                                                                                                                                                                                                                                                                                                                                                                                                                                                                                                                                                                                                                                                                                                                                                                                                                                                                                                                                                        \n",
       "year                        2005                                                                                                                                                                                                                                                                                                                                                                                                                                                                                                                                                                                                                                                                                                                                                                                                                                                                                                                                                                                                                                                                                                                                                                                                                                                                                                                                                                                                                                                                                                                                                                                                                                                                                                                                                                                                                                                                                                                                                                                                                                                                                                                                                                                                                            \n",
       "topic                       109.D407.M.250.B.21                                                                                                                                                                                                                                                                                                                                                                                                                                                                                                                                                                                                                                                                                                                                                                                                                                                                                                                                                                                                                                                                                                                                                                                                                                                                                                                                                                                                                                                                                                                                                                                                                                                                                                                                                                                                                                                                                                                                                                                                                                                                                                                                                                                                             \n",
       "source                      reference_summary_sentence                                                                                                                                                                                                                                                                                                                                                                                                                                                                                                                                                                                                                                                                                                                                                                                                                                                                                                                                                                                                                                                                                                                                                                                                                                                                                                                                                                                                                                                                                                                                                                                                                                                                                                                                                                                                                                                                                                                                                                                                                                                                                                                                                                                                      \n",
       "has_verb                    True                                                                                                                                                                                                                                                                                                                                                                                                                                                                                                                                                                                                                                                                                                                                                                                                                                                                                                                                                                                                                                                                                                                                                                                                                                                                                                                                                                                                                                                                                                                                                                                                                                                                                                                                                                                                                                                                                                                                                                                                                                                                                                                                                                                                                            \n",
       "scu_span_ratio              0.235294                                                                                                                                                                                                                                                                                                                                                                                                                                                                                                                                                                                                                                                                                                                                                                                                                                                                                                                                                                                                                                                                                                                                                                                                                                                                                                                                                                                                                                                                                                                                                                                                                                                                                                                                                                                                                                                                                                                                                                                                                                                                                                                                                                                                                        \n",
       "span_len                    4                                                                                                                                                                                                                                                                                                                                                                                                                                                                                                                                                                                                                                                                                                                                                                                                                                                                                                                                                                                                                                                                                                                                                                                                                                                                                                                                                                                                                                                                                                                                                                                                                                                                                                                                                                                                                                                                                                                                                                                                                                                                                                                                                                                                                               \n",
       "w_overlap                   1                                                                                                                                                                                                                                                                                                                                                                                                                                                                                                                                                                                                                                                                                                                                                                                                                                                                                                                                                                                                                                                                                                                                                                                                                                                                                                                                                                                                                                                                                                                                                                                                                                                                                                                                                                                                                                                                                                                                                                                                                                                                                                                                                                                                                               \n",
       "source_short_long           True                                                                                                                                                                                                                                                                                                                                                                                                                                                                                                                                                                                                                                                                                                                                                                                                                                                                                                                                                                                                                                                                                                                                                                                                                                                                                                                                                                                                                                                                                                                                                                                                                                                                                                                                                                                                                                                                                                                                                                                                                                                                                                                                                                                                                            \n",
       "text_len                    17                                                                                                                                                                                                                                                                                                                                                                                                                                                                                                                                                                                                                                                                                                                                                                                                                                                                                                                                                                                                                                                                                                                                                                                                                                                                                                                                                                                                                                                                                                                                                                                                                                                                                                                                                                                                                                                                                                                                                                                                                                                                                                                                                                                                                              \n",
       "label_len                   4                                                                                                                                                                                                                                                                                                                                                                                                                                                                                                                                                                                                                                                                                                                                                                                                                                                                                                                                                                                                                                                                                                                                                                                                                                                                                                                                                                                                                                                                                                                                                                                                                                                                                                                                                                                                                                                                                                                                                                                                                                                                                                                                                                                                                               \n",
       "min_w_overlap               3                                                                                                                                                                                                                                                                                                                                                                                                                                                                                                                                                                                                                                                                                                                                                                                                                                                                                                                                                                                                                                                                                                                                                                                                                                                                                                                                                                                                                                                                                                                                                                                                                                                                                                                                                                                                                                                                                                                                                                                                                                                                                                                                                                                                                               \n",
       "label_to_scu_ratio          1.33333                                                                                                                                                                                                                                                                                                                                                                                                                                                                                                                                                                                                                                                                                                                                                                                                                                                                                                                                                                                                                                                                                                                                                                                                                                                                                                                                                                                                                                                                                                                                                                                                                                                                                                                                                                                                                                                                                                                                                                                                                                                                                                                                                                                                                         \n",
       "one_contributor             False                                                                                                                                                                                                                                                                                                                                                                                                                                                                                                                                                                                                                                                                                                                                                                                                                                                                                                                                                                                                                                                                                                                                                                                                                                                                                                                                                                                                                                                                                                                                                                                                                                                                                                                                                                                                                                                                                                                                                                                                                                                                                                                                                                                                                           \n",
       "one_short_or_long_source    False                                                                                                                                                                                                                                                                                                                                                                                                                                                                                                                                                                                                                                                                                                                                                                                                                                                                                                                                                                                                                                                                                                                                                                                                                                                                                                                                                                                                                                                                                                                                                                                                                                                                                                                                                                                                                                                                                                                                                                                                                                                                                                                                                                                                                           \n",
       "no_source_span_ratio        False                                                                                                                                                                                                                                                                                                                                                                                                                                                                                                                                                                                                                                                                                                                                                                                                                                                                                                                                                                                                                                                                                                                                                                                                                                                                                                                                                                                                                                                                                                                                                                                                                                                                                                                                                                                                                                                                                                                                                                                                                                                                                                                                                                                                                           \n",
       "prev_scu_label              NaN                                                                                                                                                                                                                                                                                                                                                                                                                                                                                                                                                                                                                                                                                                                                                                                                                                                                                                                                                                                                                                                                                                                                                                                                                                                                                                                                                                                                                                                                                                                                                                                                                                                                                                                                                                                                                                                                                                                                                                                                                                                                                                                                                                                                                             \n",
       "document                    NaN                                                                                                                                                                                                                                                                                                                                                                                                                                                                                                                                                                                                                                                                                                                                                                                                                                                                                                                                                                                                                                                                                                                                                                                                                                                                                                                                                                                                                                                                                                                                                                                                                                                                                                                                                                                                                                                                                                                                                                                                                                                                                                                                                                                                                             \n",
       "weight                      NaN                                                                                                                                                                                                                                                                                                                                                                                                                                                                                                                                                                                                                                                                                                                                                                                                                                                                                                                                                                                                                                                                                                                                                                                                                                                                                                                                                                                                                                                                                                                                                                                                                                                                                                                                                                                                                                                                                                                                                                                                                                                                                                                                                                                                                             \n",
       "stripped_id                 2005~!~109.D407.M.250.B.21~!~11~!~SCU                                                                                                                                                                                                                                                                                                                                                                                                                                                                                                                                                                                                                                                                                                                                                                                                                                                                                                                                                                                                                                                                                                                                                                                                                                                                                                                                                                                                                                                                                                                                                                                                                                                                                                                                                                                                                                                                                                                                                                                                                                                                                                                                                                                           \n",
       "qas                         [{'qa_uuid': 'DUC2005~!~109.D407.M.250.B.21~!~80~!~4~!~endangered~!~16', 'verb': 'endangered', 'verb_idx': 4, 'question': 'Where is something endangered?', 'answer': 'In Africa', 'answer_range': '0:1'}, {'qa_uuid': 'DUC2005~!~109.D407.M.250.B.21~!~80~!~4~!~endangered~!~17', 'verb': 'endangered', 'verb_idx': 4, 'question': 'What is endangered?', 'answer': 'species', 'answer_range': '3:3'}, {'qa_uuid': 'DUC2005~!~109.D407.M.250.B.21~!~80~!~4~!~endangered~!~18', 'verb': 'endangered', 'verb_idx': 4, 'question': 'How is something endangered?', 'answer': 'by poaching', 'answer_range': '5:6'}, {'qa_uuid': 'DUC2005~!~109.D407.M.250.B.21~!~80~!~4~!~endangered~!~19', 'verb': 'endangered', 'verb_idx': 4, 'question': 'What is something endangered by?', 'answer': 'poaching', 'answer_range': '6:6'}, {'qa_uuid': 'DUC2005~!~109.D407.M.250.B.21~!~80~!~7~!~include~!~23', 'verb': 'include', 'verb_idx': 7, 'question': 'Where does something include something?', 'answer': 'In Africa', 'answer_range': '0:1'}, {'qa_uuid': 'DUC2005~!~109.D407.M.250.B.21~!~80~!~7~!~include~!~24', 'verb': 'include', 'verb_idx': 7, 'question': 'What includes something?', 'answer': 'species endangered by poaching', 'answer_range': '3:6'}, {'qa_uuid': 'DUC2005~!~109.D407.M.250.B.21~!~80~!~7~!~include~!~25', 'verb': 'include', 'verb_idx': 7, 'question': 'What does something include?', 'answer': 'elephants , rhinoceroses , buffalo , baboons , chimpanzees , mountain gorillas and rare birds', 'answer_range': '8:22'}, {'qa_uuid': 'DUC2005~!~109.D407.M.250.B.21~!~80~!~6~!~poaching~!~20', 'verb': 'poaching', 'verb_idx': 6, 'question': 'Where is something being poached?', 'answer': 'In Africa', 'answer_range': '0:1'}, {'qa_uuid': 'DUC2005~!~109.D407.M.250.B.21~!~80~!~6~!~poaching~!~21', 'verb': 'poaching', 'verb_idx': 6, 'question': 'What is poaching?', 'answer': 'species', 'answer_range': '3:3'}, {'qa_uuid': 'DUC2005~!~109.D407.M.250.B.21~!~80~!~6~!~poaching~!~22', 'verb': 'poaching', 'verb_idx': 6, 'question': 'What is poached?', 'answer': 'elephants , rhinoceroses , buffalo , baboons , chimpanzees , mountain gorillas and rare birds', 'answer_range': '8:22'}]\n",
       "tokens                      In Africa , species endangered by poaching include elephants , rhinoceroses , buffalo , baboons , chimpanzees , mountain gorillas and rare birds .                                                                                                                                                                                                                                                                                                                                                                                                                                                                                                                                                                                                                                                                                                                                                                                                                                                                                                                                                                                                                                                                                                                                                                                                                                                                                                                                                                                                                                                                                                                                                                                                                                                                                                                                                                                                                                                                                                                                                                                                                                                                              \n",
       "Name: 12, dtype: object"
      ]
     },
     "execution_count": 128,
     "metadata": {},
     "output_type": "execute_result"
    }
   ],
   "source": [
    "test_wqas.iloc[12]"
   ]
  },
  {
   "cell_type": "code",
   "execution_count": 129,
   "metadata": {},
   "outputs": [
    {
     "name": "stdout",
     "output_type": "stream",
     "text": [
      "average size clusters  3.4101726551563227\n",
      "Train Num Train pairs  26321\n",
      "\n",
      "average size clusters  2.9023809523809523\n",
      "Val Num Train pairs  2720\n",
      "\n",
      "average size clusters  3.375841750841751\n",
      "Test Num Train pairs  14282\n",
      "\n"
     ]
    }
   ],
   "source": [
    "train_pairs,scu2size = create_pairs(train_wqas)\n",
    "print(\"Train Num Train pairs \",len(train_pairs))\n",
    "print()\n",
    "val_pairs,val_scu2size = create_pairs(val_wqas)\n",
    "print(\"Val Num Train pairs \",len(val_pairs))\n",
    "print()\n",
    "test_pairs,test_scu2size = create_pairs(test_wqas)\n",
    "print(\"Test Num Train pairs \",len(test_pairs))\n",
    "print()"
   ]
  },
  {
   "cell_type": "code",
   "execution_count": 130,
   "metadata": {},
   "outputs": [],
   "source": [
    "train_pairs['key'] = train_pairs.apply(lambda x: get_sorted(x),axis=1)\n",
    "val_pairs['key'] = val_pairs.apply(lambda x: get_sorted(x),axis=1)\n",
    "test_pairs['key'] = test_pairs.apply(lambda x: get_sorted(x),axis=1)"
   ]
  },
  {
   "cell_type": "code",
   "execution_count": 139,
   "metadata": {},
   "outputs": [],
   "source": [
    "train_pairs.to_csv(\"../../data/predict/extended_fusion/train_extended_fusion_pairs_wqas.csv\",index=False)\n",
    "val_pairs.to_csv(\"../../data/predict/extended_fusion/val_extended_fusion_pairs_wqas.csv\",index=False)\n",
    "test_pairs.to_csv(\"../../data/predict/extended_fusion/test_extended_fusion_pairs_wqas.csv\",index=False)"
   ]
  },
  {
   "cell_type": "code",
   "execution_count": 140,
   "metadata": {},
   "outputs": [
    {
     "data": {
      "text/plain": [
       "26321"
      ]
     },
     "execution_count": 140,
     "metadata": {},
     "output_type": "execute_result"
    }
   ],
   "source": []
  },
  {
   "cell_type": "code",
   "execution_count": 66,
   "metadata": {},
   "outputs": [],
   "source": [
    "def get_sorted(x):\n",
    "    key = [x['abs_sent_id_1'],x['abs_sent_id_2']]\n",
    "    key = sorted(key)\n",
    "    return \"~!~\".join(key)"
   ]
  },
  {
   "cell_type": "code",
   "execution_count": 4,
   "metadata": {},
   "outputs": [],
   "source": [
    "'''\n",
    "['abs_scu_id', 'scu_label', 'abs_sent_id', 'text', 'text_spans', 'year',\n",
    "       'filepath', 'multi_sent', 'topic', 'w_overlap', 'qas', 'tokens']\n",
    "'''\n",
    "\n",
    "def create_pairs(data):\n",
    "    \n",
    "    scu2size = defaultdict(list)\n",
    "    sent2sent = [] #accumulating sentence pairs\n",
    "    avgs = [] #avg size clusters\n",
    "    avg_pairs = []\n",
    "    for i,df in data.groupby(\"abs_scu_id\"):\n",
    "        if len(df) == 1: \n",
    "            print(df)\n",
    "            return\n",
    "        \n",
    "        scu2size[len(df)].append(i)\n",
    "        avgs.append(len(df))\n",
    "\n",
    "        p = 0\n",
    "        for pair in list(itertools.combinations(zip(df['abs_sent_id'],df['text'],df['tokens'], df['year'], df['topic'], df['w_overlap'], df['qas']),2)):\n",
    "            if pair[0][0] == pair[1][0]: continue\n",
    "            \n",
    "            #abs_scu_id,        abs_sent_id_1,text_1,tokens_1 ,abs_sent_id_2,  text_2,tokens_2, year_1, topic_1, w_overlap_1,qas_1, year_2, topic_2, w_overlap_2,qas_2\n",
    "            sent2sent.append((i, pair[0][0], pair[0][1],pair[0][2],pair[1][0], pair[1][1],pair[1][2], pair[0][3], pair[0][4], pair[0][5],pair[0][6],pair[1][3], pair[1][4], pair[1][5],pair[1][6]))\n",
    "            p += 1\n",
    "        avg_pairs.append(p)\n",
    "    if not sent2sent: return []\n",
    "    df = pd.DataFrame(sent2sent)\n",
    "    df.columns = ['abs_scu_id','abs_sent_id_1','text_1','tokens_1','abs_sent_id_2', 'text_2','tokens_2', 'year_1', 'topic_1', 'w_overlap_1','qas_1','year_2', 'topic_2', 'w_overlap_2','qas_2']\n",
    "    print(\"average size clusters \", sum(avgs)/len(avgs))\n",
    "\n",
    "    return df, scu2size\n",
    "\n",
    "\n",
    "def format_qasrl(sents):\n",
    "    '''Extracting the necessary keys from predicted QASRL QAs'''\n",
    "    post_qas = []\n",
    "    for qa in sents:\n",
    "        #print(\"iterating\")\n",
    "        qasrl_id = qa[\"qasrl_id\"]\n",
    "        #print(len(qa[\"verbs\"]))\n",
    "        tokens = qa['words']\n",
    "        for verb_obj in qa[\"verbs\"]:\n",
    "            #print(\"\\t\\t\", len(verb_obj['qa_pairs']))\n",
    "            verb = verb_obj[\"verb\"]\n",
    "            verb_ind = verb_obj[\"index\"]\n",
    "            for qa_pair in verb_obj['qa_pairs']:\n",
    "                row = (qasrl_id, tokens,verb, qa_pair[\"question\"], qa_pair[\"spans\"][0][\"text\"],\n",
    "                       str(qa_pair[\"spans\"][0][\"start\"]) + \":\" + str(qa_pair[\"spans\"][0][\"end\"]), verb_ind)\n",
    "\n",
    "                post_qas.append(row)\n",
    "    print(\"Number of qas extracted: \",len(post_qas))\n",
    "    return post_qas"
   ]
  }
 ],
 "metadata": {
  "kernelspec": {
   "display_name": "Python 3",
   "language": "python",
   "name": "python3"
  },
  "language_info": {
   "codemirror_mode": {
    "name": "ipython",
    "version": 3
   },
   "file_extension": ".py",
   "mimetype": "text/x-python",
   "name": "python",
   "nbconvert_exporter": "python",
   "pygments_lexer": "ipython3",
   "version": "3.6.10"
  }
 },
 "nbformat": 4,
 "nbformat_minor": 4
}
