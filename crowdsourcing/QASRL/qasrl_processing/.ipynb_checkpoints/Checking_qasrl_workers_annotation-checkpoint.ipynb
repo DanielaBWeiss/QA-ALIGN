{
 "cells": [
  {
   "cell_type": "code",
   "execution_count": 1,
   "metadata": {},
   "outputs": [
    {
     "name": "stderr",
     "output_type": "stream",
     "text": [
      "/Users/danielastepanov/miniconda3/envs/qa-align/lib/python3.6/site-packages/ipykernel_launcher.py:7: FutureWarning: Passing a negative integer is deprecated in version 1.0 and will not be supported in future version. Instead, use None to not limit the column width.\n",
      "  import sys\n"
     ]
    }
   ],
   "source": [
    "import pandas as pd\n",
    "import os\n",
    "from collections import defaultdict\n",
    "pd.set_option('display.max_rows', None)\n",
    "pd.set_option('display.max_columns', None)\n",
    "pd.set_option('display.width', None)\n",
    "pd.set_option('display.max_colwidth', -1)"
   ]
  },
  {
   "cell_type": "code",
   "execution_count": 9,
   "metadata": {},
   "outputs": [],
   "source": [
    "p1 = pd.read_csv(\"../../data/QASRL_Annotations/production/prod_1_qasrl_generation.csv\")\n",
    "sents = pd.read_csv(\"../../data/QASRL_Annotations/batch_1_live_qasrl_sentences.csv\")\n",
    "p2 = pd.read_csv(\"../../data/QASRL_Annotations/production/prod_2_qasrl_generation.csv\")\n",
    "sents2 = pd.read_csv(\"../../data/QASRL_Annotations/batch_2_live_qasrl_sentences.csv\")\n",
    "p3 = pd.read_csv(\"../../data/QASRL_Annotations/production/prod_3_qasrl_generation.csv\")\n",
    "sents3 = pd.read_csv(\"../../data/QASRL_Annotations/batch_3_live_qasrl_sentences.csv\")"
   ]
  },
  {
   "cell_type": "code",
   "execution_count": 10,
   "metadata": {},
   "outputs": [],
   "source": [
    "all_gen = p1.append(p2)\n",
    "all_gen = all_gen.append(p3)\n",
    "all_sents = sents.append(sents2)\n",
    "all_sents = all_sents.append(sents3)"
   ]
  },
  {
   "cell_type": "markdown",
   "metadata": {},
   "source": [
    "### Doing QASRL Production Analysis for Assessing the Quality of Annotations"
   ]
  },
  {
   "cell_type": "markdown",
   "metadata": {},
   "source": [
    "#### Average number of questions per predicate"
   ]
  },
  {
   "cell_type": "code",
   "execution_count": 14,
   "metadata": {},
   "outputs": [
    {
     "data": {
      "text/plain": [
       "2.714556841905485"
      ]
     },
     "execution_count": 14,
     "metadata": {},
     "output_type": "execute_result"
    }
   ],
   "source": [
    "avg_qs = all_gen.groupby(['qasrl_id', 'verb_idx', 'verb']).size().reset_index()\n",
    "avg_qs[0].mean()"
   ]
  },
  {
   "cell_type": "code",
   "execution_count": null,
   "metadata": {},
   "outputs": [],
   "source": []
  },
  {
   "cell_type": "code",
   "execution_count": 29,
   "metadata": {},
   "outputs": [],
   "source": [
    "sample_sentences = all_sents.sample(20)"
   ]
  },
  {
   "cell_type": "code",
   "execution_count": 30,
   "metadata": {},
   "outputs": [],
   "source": [
    "sample_generations = all_gen[all_gen.qasrl_id.isin(sample_sentences.qasrl_id)]"
   ]
  },
  {
   "cell_type": "code",
   "execution_count": 31,
   "metadata": {},
   "outputs": [
    {
     "data": {
      "text/plain": [
       "54"
      ]
     },
     "execution_count": 31,
     "metadata": {},
     "output_type": "execute_result"
    }
   ],
   "source": [
    "len(sample_generations.groupby(['qasrl_id', 'verb_idx', 'verb']))"
   ]
  },
  {
   "cell_type": "code",
   "execution_count": 36,
   "metadata": {},
   "outputs": [
    {
     "data": {
      "text/plain": [
       "qasrl_id    35_3ecb~!~2~!~141                                                                                                                                                                                 \n",
       "sentence    Police apprehended Jackson at about 2:30 a.m. and booked him for the misdemeanour before his release , making for a long night with a playoff looming on Sunday at Pittsburgh against the Steelers\n",
       "tokens      Police apprehended Jackson at about 2:30 a.m. and booked him for the misdemeanour before his release , making for a long night with a playoff looming on Sunday at Pittsburgh against the Steelers\n",
       "Name: 121, dtype: object"
      ]
     },
     "execution_count": 36,
     "metadata": {},
     "output_type": "execute_result"
    }
   ],
   "source": [
    "sample_sentences.iloc[0]"
   ]
  },
  {
   "cell_type": "code",
   "execution_count": 37,
   "metadata": {},
   "outputs": [
    {
     "name": "stderr",
     "output_type": "stream",
     "text": [
      "/Users/danielastepanov/miniconda3/envs/qa-align/lib/python3.6/site-packages/ipykernel_launcher.py:1: SettingWithCopyWarning: \n",
      "A value is trying to be set on a copy of a slice from a DataFrame.\n",
      "Try using .loc[row_indexer,col_indexer] = value instead\n",
      "\n",
      "See the caveats in the documentation: https://pandas.pydata.org/pandas-docs/stable/user_guide/indexing.html#returning-a-view-versus-a-copy\n",
      "  \"\"\"Entry point for launching an IPython kernel.\n"
     ]
    }
   ],
   "source": [
    "sample_generations['sents'] = sample_generations.qasrl_id.apply(lambda x: sample_sentences[sample_sentences.qasrl_id == x]['sentence'].iloc[0])"
   ]
  },
  {
   "cell_type": "code",
   "execution_count": 39,
   "metadata": {},
   "outputs": [],
   "source": [
    "sample_generations.to_csv(\"../../data/QASRL_Annotations/eval/sample_production_generation_for_evaluation.csv\", index=False)"
   ]
  },
  {
   "cell_type": "code",
   "execution_count": 44,
   "metadata": {},
   "outputs": [
    {
     "data": {
      "text/html": [
       "<div>\n",
       "<style scoped>\n",
       "    .dataframe tbody tr th:only-of-type {\n",
       "        vertical-align: middle;\n",
       "    }\n",
       "\n",
       "    .dataframe tbody tr th {\n",
       "        vertical-align: top;\n",
       "    }\n",
       "\n",
       "    .dataframe thead th {\n",
       "        text-align: right;\n",
       "    }\n",
       "</style>\n",
       "<table border=\"1\" class=\"dataframe\">\n",
       "  <thead>\n",
       "    <tr style=\"text-align: right;\">\n",
       "      <th></th>\n",
       "      <th>qasrl_id</th>\n",
       "      <th>verb</th>\n",
       "    </tr>\n",
       "  </thead>\n",
       "  <tbody>\n",
       "    <tr>\n",
       "      <th>4886</th>\n",
       "      <td>37_1ecb~!~0~!~329</td>\n",
       "      <td>killed</td>\n",
       "    </tr>\n",
       "    <tr>\n",
       "      <th>4887</th>\n",
       "      <td>37_1ecb~!~0~!~329</td>\n",
       "      <td>killed</td>\n",
       "    </tr>\n",
       "    <tr>\n",
       "      <th>4965</th>\n",
       "      <td>MultiNews_test8~!~1_parsed.txt~!~9</td>\n",
       "      <td>display</td>\n",
       "    </tr>\n",
       "    <tr>\n",
       "      <th>4966</th>\n",
       "      <td>MultiNews_test8~!~1_parsed.txt~!~9</td>\n",
       "      <td>display</td>\n",
       "    </tr>\n",
       "    <tr>\n",
       "      <th>4967</th>\n",
       "      <td>MultiNews_test8~!~1_parsed.txt~!~9</td>\n",
       "      <td>display</td>\n",
       "    </tr>\n",
       "    <tr>\n",
       "      <th>4968</th>\n",
       "      <td>MultiNews_test8~!~1_parsed.txt~!~9</td>\n",
       "      <td>display</td>\n",
       "    </tr>\n",
       "    <tr>\n",
       "      <th>5213</th>\n",
       "      <td>12_4ecb~!~0~!~84</td>\n",
       "      <td>captured</td>\n",
       "    </tr>\n",
       "    <tr>\n",
       "      <th>5214</th>\n",
       "      <td>12_4ecb~!~0~!~84</td>\n",
       "      <td>captured</td>\n",
       "    </tr>\n",
       "    <tr>\n",
       "      <th>5215</th>\n",
       "      <td>12_4ecb~!~0~!~84</td>\n",
       "      <td>captured</td>\n",
       "    </tr>\n",
       "    <tr>\n",
       "      <th>5216</th>\n",
       "      <td>12_4ecb~!~0~!~84</td>\n",
       "      <td>captured</td>\n",
       "    </tr>\n",
       "  </tbody>\n",
       "</table>\n",
       "</div>"
      ],
      "text/plain": [
       "                                qasrl_id      verb\n",
       "4886  37_1ecb~!~0~!~329                   killed  \n",
       "4887  37_1ecb~!~0~!~329                   killed  \n",
       "4965  MultiNews_test8~!~1_parsed.txt~!~9  display \n",
       "4966  MultiNews_test8~!~1_parsed.txt~!~9  display \n",
       "4967  MultiNews_test8~!~1_parsed.txt~!~9  display \n",
       "4968  MultiNews_test8~!~1_parsed.txt~!~9  display \n",
       "5213  12_4ecb~!~0~!~84                    captured\n",
       "5214  12_4ecb~!~0~!~84                    captured\n",
       "5215  12_4ecb~!~0~!~84                    captured\n",
       "5216  12_4ecb~!~0~!~84                    captured"
      ]
     },
     "execution_count": 44,
     "metadata": {},
     "output_type": "execute_result"
    }
   ],
   "source": [
    "sample_generations.tail(10)[['qasrl_id','verb']]"
   ]
  },
  {
   "cell_type": "code",
   "execution_count": 10,
   "metadata": {},
   "outputs": [
    {
     "data": {
      "text/plain": [
       "Index(['qasrl_id', 'verb_idx', 'verb', 'worker_id', 'assign_id',\n",
       "       'source_assign_id', 'question', 'is_redundant', 'answer_range',\n",
       "       'answer', 'wh', 'subj', 'obj', 'obj2', 'aux', 'prep', 'verb_prefix',\n",
       "       'is_passive', 'is_negated'],\n",
       "      dtype='object')"
      ]
     },
     "execution_count": 10,
     "metadata": {},
     "output_type": "execute_result"
    }
   ],
   "source": [
    "p1.columns"
   ]
  },
  {
   "cell_type": "code",
   "execution_count": 4,
   "metadata": {},
   "outputs": [],
   "source": [
    "all_sents = sents.append(sents2)\n",
    "all_sents = all_sents.append(sents3)"
   ]
  },
  {
   "cell_type": "code",
   "execution_count": 5,
   "metadata": {},
   "outputs": [],
   "source": [
    "#p1['sentence'] = p1['qasrl_id'].apply(lambda x: sents[sents.qasrl_id == x]['sentence'].iloc[0])\n",
    "#p2['sentence'] = p2['qasrl_id'].apply(lambda x: sents2[sents2.qasrl_id == x]['sentence'].iloc[0])\n",
    "p3['sentence'] = p3['qasrl_id'].apply(lambda x: all_sents[all_sents.qasrl_id == x]['sentence'].iloc[0])"
   ]
  },
  {
   "cell_type": "code",
   "execution_count": 9,
   "metadata": {},
   "outputs": [
    {
     "data": {
      "text/html": [
       "<div>\n",
       "<style scoped>\n",
       "    .dataframe tbody tr th:only-of-type {\n",
       "        vertical-align: middle;\n",
       "    }\n",
       "\n",
       "    .dataframe tbody tr th {\n",
       "        vertical-align: top;\n",
       "    }\n",
       "\n",
       "    .dataframe thead th {\n",
       "        text-align: right;\n",
       "    }\n",
       "</style>\n",
       "<table border=\"1\" class=\"dataframe\">\n",
       "  <thead>\n",
       "    <tr style=\"text-align: right;\">\n",
       "      <th></th>\n",
       "      <th>worker_id</th>\n",
       "      <th>0</th>\n",
       "    </tr>\n",
       "  </thead>\n",
       "  <tbody>\n",
       "    <tr>\n",
       "      <th>0</th>\n",
       "      <td>A1FS8SBR4SDWYG</td>\n",
       "      <td>1611</td>\n",
       "    </tr>\n",
       "    <tr>\n",
       "      <th>1</th>\n",
       "      <td>A2A4UAFZ5LW71K</td>\n",
       "      <td>1328</td>\n",
       "    </tr>\n",
       "    <tr>\n",
       "      <th>2</th>\n",
       "      <td>A3IR7DFEKLLLO</td>\n",
       "      <td>325</td>\n",
       "    </tr>\n",
       "    <tr>\n",
       "      <th>3</th>\n",
       "      <td>A98E8M4QLI9RS</td>\n",
       "      <td>262</td>\n",
       "    </tr>\n",
       "    <tr>\n",
       "      <th>4</th>\n",
       "      <td>AJQGWGESKQT4Y</td>\n",
       "      <td>991</td>\n",
       "    </tr>\n",
       "  </tbody>\n",
       "</table>\n",
       "</div>"
      ],
      "text/plain": [
       "        worker_id     0\n",
       "0  A1FS8SBR4SDWYG  1611\n",
       "1  A2A4UAFZ5LW71K  1328\n",
       "2  A3IR7DFEKLLLO   325 \n",
       "3  A98E8M4QLI9RS   262 \n",
       "4  AJQGWGESKQT4Y   991 "
      ]
     },
     "execution_count": 9,
     "metadata": {},
     "output_type": "execute_result"
    }
   ],
   "source": [
    "p1.groupby(['worker_id']).size().reset_index() #num verbs"
   ]
  },
  {
   "cell_type": "code",
   "execution_count": 4,
   "metadata": {},
   "outputs": [
    {
     "data": {
      "text/html": [
       "<div>\n",
       "<style scoped>\n",
       "    .dataframe tbody tr th:only-of-type {\n",
       "        vertical-align: middle;\n",
       "    }\n",
       "\n",
       "    .dataframe tbody tr th {\n",
       "        vertical-align: top;\n",
       "    }\n",
       "\n",
       "    .dataframe thead th {\n",
       "        text-align: right;\n",
       "    }\n",
       "</style>\n",
       "<table border=\"1\" class=\"dataframe\">\n",
       "  <thead>\n",
       "    <tr style=\"text-align: right;\">\n",
       "      <th></th>\n",
       "      <th>worker_id</th>\n",
       "      <th>0</th>\n",
       "    </tr>\n",
       "  </thead>\n",
       "  <tbody>\n",
       "    <tr>\n",
       "      <th>0</th>\n",
       "      <td>A1FS8SBR4SDWYG</td>\n",
       "      <td>1560</td>\n",
       "    </tr>\n",
       "    <tr>\n",
       "      <th>1</th>\n",
       "      <td>A21LONLNBOB8Q</td>\n",
       "      <td>785</td>\n",
       "    </tr>\n",
       "    <tr>\n",
       "      <th>2</th>\n",
       "      <td>A2A4UAFZ5LW71K</td>\n",
       "      <td>753</td>\n",
       "    </tr>\n",
       "    <tr>\n",
       "      <th>3</th>\n",
       "      <td>A3IR7DFEKLLLO</td>\n",
       "      <td>128</td>\n",
       "    </tr>\n",
       "    <tr>\n",
       "      <th>4</th>\n",
       "      <td>A3TUJHF9LW3M8N</td>\n",
       "      <td>529</td>\n",
       "    </tr>\n",
       "    <tr>\n",
       "      <th>5</th>\n",
       "      <td>A98E8M4QLI9RS</td>\n",
       "      <td>116</td>\n",
       "    </tr>\n",
       "    <tr>\n",
       "      <th>6</th>\n",
       "      <td>AJQGWGESKQT4Y</td>\n",
       "      <td>538</td>\n",
       "    </tr>\n",
       "  </tbody>\n",
       "</table>\n",
       "</div>"
      ],
      "text/plain": [
       "        worker_id     0\n",
       "0  A1FS8SBR4SDWYG  1560\n",
       "1  A21LONLNBOB8Q   785 \n",
       "2  A2A4UAFZ5LW71K  753 \n",
       "3  A3IR7DFEKLLLO   128 \n",
       "4  A3TUJHF9LW3M8N  529 \n",
       "5  A98E8M4QLI9RS   116 \n",
       "6  AJQGWGESKQT4Y   538 "
      ]
     },
     "execution_count": 4,
     "metadata": {},
     "output_type": "execute_result"
    }
   ],
   "source": [
    "p2.groupby(['worker_id']).size().reset_index() #num verbs"
   ]
  },
  {
   "cell_type": "code",
   "execution_count": 6,
   "metadata": {},
   "outputs": [
    {
     "data": {
      "text/html": [
       "<div>\n",
       "<style scoped>\n",
       "    .dataframe tbody tr th:only-of-type {\n",
       "        vertical-align: middle;\n",
       "    }\n",
       "\n",
       "    .dataframe tbody tr th {\n",
       "        vertical-align: top;\n",
       "    }\n",
       "\n",
       "    .dataframe thead th {\n",
       "        text-align: right;\n",
       "    }\n",
       "</style>\n",
       "<table border=\"1\" class=\"dataframe\">\n",
       "  <thead>\n",
       "    <tr style=\"text-align: right;\">\n",
       "      <th></th>\n",
       "      <th>worker_id</th>\n",
       "      <th>0</th>\n",
       "    </tr>\n",
       "  </thead>\n",
       "  <tbody>\n",
       "    <tr>\n",
       "      <th>0</th>\n",
       "      <td>A1FS8SBR4SDWYG</td>\n",
       "      <td>1912</td>\n",
       "    </tr>\n",
       "    <tr>\n",
       "      <th>1</th>\n",
       "      <td>A21LONLNBOB8Q</td>\n",
       "      <td>910</td>\n",
       "    </tr>\n",
       "    <tr>\n",
       "      <th>2</th>\n",
       "      <td>A2A4UAFZ5LW71K</td>\n",
       "      <td>715</td>\n",
       "    </tr>\n",
       "    <tr>\n",
       "      <th>3</th>\n",
       "      <td>A3IR7DFEKLLLO</td>\n",
       "      <td>86</td>\n",
       "    </tr>\n",
       "    <tr>\n",
       "      <th>4</th>\n",
       "      <td>A3TUJHF9LW3M8N</td>\n",
       "      <td>1088</td>\n",
       "    </tr>\n",
       "    <tr>\n",
       "      <th>5</th>\n",
       "      <td>A98E8M4QLI9RS</td>\n",
       "      <td>161</td>\n",
       "    </tr>\n",
       "    <tr>\n",
       "      <th>6</th>\n",
       "      <td>AJQGWGESKQT4Y</td>\n",
       "      <td>505</td>\n",
       "    </tr>\n",
       "  </tbody>\n",
       "</table>\n",
       "</div>"
      ],
      "text/plain": [
       "        worker_id     0\n",
       "0  A1FS8SBR4SDWYG  1912\n",
       "1  A21LONLNBOB8Q   910 \n",
       "2  A2A4UAFZ5LW71K  715 \n",
       "3  A3IR7DFEKLLLO   86  \n",
       "4  A3TUJHF9LW3M8N  1088\n",
       "5  A98E8M4QLI9RS   161 \n",
       "6  AJQGWGESKQT4Y   505 "
      ]
     },
     "execution_count": 6,
     "metadata": {},
     "output_type": "execute_result"
    }
   ],
   "source": [
    "p3.groupby(['worker_id']).size().reset_index()"
   ]
  },
  {
   "cell_type": "code",
   "execution_count": 13,
   "metadata": {},
   "outputs": [],
   "source": [
    "#### batch 2\n",
    "sample_qas1 = list(p2[p2.worker_id == 'A1FS8SBR4SDWYG'].qasrl_id.unique())[:8]\n",
    "sample_qas2 = list(p2[p2.worker_id == 'A2A4UAFZ5LW71K'].qasrl_id.unique())[:6]\n",
    "sample_qas3 = list(p2[p2.worker_id == 'A3IR7DFEKLLLO'].qasrl_id.unique())[:6]\n",
    "sample_qas4 = list(p2[p2.worker_id == 'A98E8M4QLI9RS'].qasrl_id.unique())[:6]\n",
    "sample_qas5 = list(p2[p2.worker_id == 'AJQGWGESKQT4Y'].qasrl_id.unique())[:6]\n",
    "sample_qas6 = list(p2[p2.worker_id == 'A21LONLNBOB8Q'].qasrl_id.unique())[:8]\n",
    "sample_qas7 = list(p2[p2.worker_id == 'A3TUJHF9LW3M8N'].qasrl_id.unique())[25:35]"
   ]
  },
  {
   "cell_type": "code",
   "execution_count": 24,
   "metadata": {},
   "outputs": [],
   "source": [
    "#### batch 1:\n",
    "sample_qas1 = list(p1[p1.worker_id == 'A1FS8SBR4SDWYG'].qasrl_id.unique())[:10]\n",
    "sample_qas2 = list(p1[p1.worker_id == 'A2A4UAFZ5LW71K'].qasrl_id.unique())[:10]\n",
    "sample_qas3 = list(p1[p1.worker_id == 'A3IR7DFEKLLLO'].qasrl_id.unique())[:10]\n",
    "sample_qas4 = list(p1[p1.worker_id == 'A98E8M4QLI9RS'].qasrl_id.unique())[:10]\n",
    "sample_qas5 = list(p1[p1.worker_id == 'AJQGWGESKQT4Y'].qasrl_id.unique())[:10]"
   ]
  },
  {
   "cell_type": "code",
   "execution_count": 7,
   "metadata": {},
   "outputs": [],
   "source": [
    "#### Batch 3\n",
    "sample_qas1 = list(p3[p3.worker_id == 'A1FS8SBR4SDWYG'].qasrl_id.unique())[:8]\n",
    "sample_qas2 = list(p3[p3.worker_id == 'A2A4UAFZ5LW71K'].qasrl_id.unique())[:6]\n",
    "sample_qas5 = list(p3[p3.worker_id == 'AJQGWGESKQT4Y'].qasrl_id.unique())[:6]\n",
    "sample_qas6 = list(p3[p3.worker_id == 'A21LONLNBOB8Q'].qasrl_id.unique())[:8]\n",
    "sample_qas7 = list(p3[p3.worker_id == 'A3TUJHF9LW3M8N'].qasrl_id.unique())[25:35]"
   ]
  },
  {
   "cell_type": "code",
   "execution_count": 6,
   "metadata": {},
   "outputs": [
    {
     "data": {
      "text/plain": [
       "['DUC2005~!~d366i~!~LA041889-0026~!~650',\n",
       " 'TAC2011~!~D1126-B-AEFH~!~16',\n",
       " 'DUC2005~!~d324e3~!~FT932-6577~!~195',\n",
       " 'TAC2008~!~D0802-B~!~AFP_ENG_20051021.0151~!~60',\n",
       " 'DUC2007~!~D0701-AGHI~!~13',\n",
       " 'DUC2005~!~114.D435.M.250.F.1~!~108',\n",
       " 'DUC2007~!~D0734-EFHJ~!~28',\n",
       " 'DUC2007~!~D0727~!~APW19990928.0162~!~56']"
      ]
     },
     "execution_count": 6,
     "metadata": {},
     "output_type": "execute_result"
    }
   ],
   "source": [
    "sample_qas1"
   ]
  },
  {
   "cell_type": "markdown",
   "metadata": {},
   "source": [
    "#### Batch 1"
   ]
  },
  {
   "cell_type": "code",
   "execution_count": 26,
   "metadata": {},
   "outputs": [],
   "source": [
    "p1[(p1.worker_id == 'A1FS8SBR4SDWYG') &(p1.qasrl_id.isin(sample_qas1))].to_csv(\"prod1_sample_A1FS8SBR4SDWYG.csv\", index=False)\n",
    "p1[(p1.worker_id == 'A2A4UAFZ5LW71K') &(p1.qasrl_id.isin(sample_qas2))].to_csv(\"prod1_sample_A2A4UAFZ5LW71K.csv\", index=False)\n",
    "p1[(p1.worker_id == 'A3IR7DFEKLLLO') &(p1.qasrl_id.isin(sample_qas3))].to_csv(\"prod1_sample_A3IR7DFEKLLLO.csv\", index=False)\n",
    "p1[(p1.worker_id == 'A98E8M4QLI9RS') &(p1.qasrl_id.isin(sample_qas4))].to_csv(\"prod1_sample_A98E8M4QLI9RS.csv\", index=False)\n",
    "p1[(p1.worker_id == 'AJQGWGESKQT4Y') &(p1.qasrl_id.isin(sample_qas5))].to_csv(\"prod1_sample_AJQGWGESKQT4Y.csv\", index=False)"
   ]
  },
  {
   "cell_type": "markdown",
   "metadata": {},
   "source": [
    "#### Batch 2"
   ]
  },
  {
   "cell_type": "code",
   "execution_count": 14,
   "metadata": {},
   "outputs": [],
   "source": [
    "#p2[(p2.worker_id == 'A1FS8SBR4SDWYG') &(p2.qasrl_id.isin(sample_qas1))].to_csv(\"prod2_sample_A1FS8SBR4SDWYG.csv\", index=False)\n",
    "#p2[(p2.worker_id == 'A2A4UAFZ5LW71K') &(p2.qasrl_id.isin(sample_qas2))].to_csv(\"prod2_sample_A2A4UAFZ5LW71K.csv\", index=False)\n",
    "#p2[(p2.worker_id == 'A3IR7DFEKLLLO') &(p2.qasrl_id.isin(sample_qas3))].to_csv(\"prod2_sample_A3IR7DFEKLLLO.csv\", index=False)\n",
    "#p2[(p2.worker_id == 'A98E8M4QLI9RS') &(p2.qasrl_id.isin(sample_qas4))].to_csv(\"prod2_sample_A98E8M4QLI9RS.csv\", index=False)\n",
    "#p2[(p2.worker_id == 'AJQGWGESKQT4Y') &(p2.qasrl_id.isin(sample_qas5))].to_csv(\"prod2_sample_AJQGWGESKQT4Y.csv\", index=False)\n",
    "#p2[(p2.worker_id == 'A21LONLNBOB8Q') &(p2.qasrl_id.isin(sample_qas6))].to_csv(\"prod2_sample_A21LONLNBOB8Q.csv\", index=False)\n",
    "p2[(p2.worker_id == 'A3TUJHF9LW3M8N') &(p2.qasrl_id.isin(sample_qas7))].to_csv(\"prod2_sample_A3TUJHF9LW3M8N.csv\", index=False)"
   ]
  },
  {
   "cell_type": "markdown",
   "metadata": {},
   "source": [
    "#### Batch 3"
   ]
  },
  {
   "cell_type": "code",
   "execution_count": 8,
   "metadata": {},
   "outputs": [],
   "source": [
    "p3[(p3.worker_id == 'A1FS8SBR4SDWYG') &(p3.qasrl_id.isin(sample_qas1))].to_csv(\"../../data/QASRL_Annotations/eval/prod3_sample_A1FS8SBR4SDWYG.csv\", index=False)\n",
    "p3[(p3.worker_id == 'A2A4UAFZ5LW71K') &(p3.qasrl_id.isin(sample_qas2))].to_csv(\"../../data/QASRL_Annotations/eval/prod3_sample_A2A4UAFZ5LW71K.csv\", index=False)\n",
    "p3[(p3.worker_id == 'AJQGWGESKQT4Y') &(p3.qasrl_id.isin(sample_qas5))].to_csv(\"../../data/QASRL_Annotations/eval/prod3_sample_AJQGWGESKQT4Y.csv\", index=False)\n",
    "p3[(p3.worker_id == 'A21LONLNBOB8Q') &(p3.qasrl_id.isin(sample_qas6))].to_csv(\"../../data/QASRL_Annotations/eval/prod3_sample_A21LONLNBOB8Q.csv\", index=False)\n",
    "p3[(p3.worker_id == 'A3TUJHF9LW3M8N') &(p3.qasrl_id.isin(sample_qas7))].to_csv(\"../../data/QASRL_Annotations/eval/prod3_sample_A3TUJHF9LW3M8N.csv\", index=False)"
   ]
  },
  {
   "cell_type": "code",
   "execution_count": null,
   "metadata": {},
   "outputs": [],
   "source": []
  }
 ],
 "metadata": {
  "kernelspec": {
   "display_name": "Python 3",
   "language": "python",
   "name": "python3"
  },
  "language_info": {
   "codemirror_mode": {
    "name": "ipython",
    "version": 3
   },
   "file_extension": ".py",
   "mimetype": "text/x-python",
   "name": "python",
   "nbconvert_exporter": "python",
   "pygments_lexer": "ipython3",
   "version": "3.6.10"
  }
 },
 "nbformat": 4,
 "nbformat_minor": 4
}
