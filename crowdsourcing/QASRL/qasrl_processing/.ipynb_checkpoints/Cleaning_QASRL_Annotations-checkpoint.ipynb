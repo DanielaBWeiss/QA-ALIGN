{
 "cells": [
  {
   "cell_type": "code",
   "execution_count": 3,
   "metadata": {},
   "outputs": [],
   "source": [
    "import pandas as pd\n",
    "import numpy as np\n",
    "import math\n",
    "pd.set_option('display.max_colwidth', -1)"
   ]
  },
  {
   "cell_type": "code",
   "execution_count": 4,
   "metadata": {},
   "outputs": [],
   "source": [
    "qasrl_annots = pd.read_csv(\"../data_to_annotate/gold/combined_data/fixed.arb.qasrl.cls.gold.csv\")"
   ]
  },
  {
   "cell_type": "markdown",
   "metadata": {},
   "source": [
    "### I remove all QAs that have \"is_redundant\" false and answer is empty, these rows are the \"invalid\" questions and answers that workers marked as invalid during qasrl annotations.\n",
    "    -for the gold data, there are 15 such sentences. \n",
    "    -there are also 655 QAs that are redundant."
   ]
  },
  {
   "cell_type": "code",
   "execution_count": 5,
   "metadata": {},
   "outputs": [],
   "source": [
    "qas = qasrl_annots[(qasrl_annots.is_redundant == False)]"
   ]
  },
  {
   "cell_type": "code",
   "execution_count": 6,
   "metadata": {},
   "outputs": [],
   "source": [
    "qas = qas[~qas.answer.isnull()]"
   ]
  },
  {
   "cell_type": "code",
   "execution_count": 7,
   "metadata": {},
   "outputs": [
    {
     "data": {
      "text/plain": [
       "793"
      ]
     },
     "execution_count": 7,
     "metadata": {},
     "output_type": "execute_result"
    }
   ],
   "source": [
    "len(qas)"
   ]
  },
  {
   "cell_type": "markdown",
   "metadata": {},
   "source": [
    "### In this step we repalce all \"-LRB-\" and \"-RRB-\" in the answers, since in the sentences they are actually ( and ) respectively."
   ]
  },
  {
   "cell_type": "code",
   "execution_count": 8,
   "metadata": {},
   "outputs": [
    {
     "data": {
      "text/plain": [
       "answer          record data on vehicle performance -LRB- `` black box '' -RRB-~!~to warn of or compensate for dangerous driving conditions                                                   \n",
       "answer_range    17:28~!~6:15                                                                                                                                                                 \n",
       "sentence        Several electronic computer-controlled devices were produced to warn of or compensate for dangerous driving conditions, and record data on vehicle performance (\"black box\").\n",
       "Name: 10, dtype: object"
      ]
     },
     "execution_count": 8,
     "metadata": {},
     "output_type": "execute_result"
    }
   ],
   "source": [
    "qas[qas.answer.str.contains(\"-LRB-\")].iloc[0][[\"answer\", \"answer_range\", \"sentence\"]]"
   ]
  },
  {
   "cell_type": "code",
   "execution_count": 1,
   "metadata": {},
   "outputs": [],
   "source": [
    "def replace_brackets(answer):\n",
    "    if \"-LRB-\" in answer:\n",
    "        answer = answer.replace(\"-LRB-\", \"(\")\n",
    "    if \"-RRB-\" in answer:\n",
    "        answer = answer.replace(\"-RRB-\", \")\")\n",
    "    if \"-LSB-\" in answer:\n",
    "        answer = answer.replace(\"-LSB-\", \"[\")\n",
    "    if \"-RSB-\" in answer:\n",
    "        answer = answer.replace(\"-RSB-\", \"]\")\n",
    "    return answer"
   ]
  },
  {
   "cell_type": "code",
   "execution_count": 10,
   "metadata": {},
   "outputs": [],
   "source": [
    "qas[\"answer\"] = qas[\"answer\"].apply(lambda x: replace_brackets(x))"
   ]
  },
  {
   "cell_type": "markdown",
   "metadata": {},
   "source": [
    "### In this section want to split QAs that contain multiple answers.\n"
   ]
  },
  {
   "cell_type": "code",
   "execution_count": 19,
   "metadata": {},
   "outputs": [],
   "source": [
    "import pandas as pd\n",
    "\n",
    "def split_argument_answers(df):\n",
    "    rows_to_add = []\n",
    "    to_delete = []\n",
    "\n",
    "    for i,row in df.iterrows():\n",
    "        if \"~!~\" in row.answer:\n",
    "            args = row.answer.split('~!~')\n",
    "            ranges = row.answer_range.split('~!~')\n",
    "\n",
    "            for j,arg in enumerate(args):\n",
    "                row_copy = row.copy()\n",
    "                row_copy[\"answer\"] = arg\n",
    "                row_copy[\"answer_range\"] = ranges[j]\n",
    "                rows_to_add.append(row_copy)\n",
    "            \n",
    "            to_delete.append(row)\n",
    "        \n",
    "    df_delete = pd.DataFrame(to_delete)\n",
    "    df_add = pd.DataFrame(rows_to_add)\n",
    "\n",
    "    df.drop(df_delete.index, inplace=True)\n",
    "    df = df.append(df_add)\n",
    "    df.reset_index(inplace=True)\n",
    "    df.drop(\"index\", axis=1, inplace=True)\n",
    "    df.reset_index(inplace=True)\n",
    "    cols = list(df.columns)\n",
    "    cols[0] = \"qa_uuid\"\n",
    "    df.columns = cols\n",
    "    return df\n"
   ]
  },
  {
   "cell_type": "code",
   "execution_count": 20,
   "metadata": {},
   "outputs": [],
   "source": [
    "final_qas = split_argument_answers(qas)"
   ]
  },
  {
   "cell_type": "code",
   "execution_count": 26,
   "metadata": {},
   "outputs": [],
   "source": [
    "final_qas.to_csv(\"processed_qasrl_arb_cls_gold.csv\", index=False)"
   ]
  }
 ],
 "metadata": {
  "kernelspec": {
   "display_name": "Python 3",
   "language": "python",
   "name": "python3"
  },
  "language_info": {
   "codemirror_mode": {
    "name": "ipython",
    "version": 3
   },
   "file_extension": ".py",
   "mimetype": "text/x-python",
   "name": "python",
   "nbconvert_exporter": "python",
   "pygments_lexer": "ipython3",
   "version": "3.6.8"
  }
 },
 "nbformat": 4,
 "nbformat_minor": 2
}
