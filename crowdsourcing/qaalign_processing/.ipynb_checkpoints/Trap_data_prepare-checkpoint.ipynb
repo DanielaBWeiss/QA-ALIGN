{
 "cells": [
  {
   "cell_type": "code",
   "execution_count": 1,
   "metadata": {},
   "outputs": [],
   "source": [
    "import pandas as pd\n",
    "from  ast import literal_eval"
   ]
  },
  {
   "cell_type": "code",
   "execution_count": 87,
   "metadata": {},
   "outputs": [
    {
     "data": {
      "text/plain": [
       "'\\ndf[\"qa_1\"] = df[\"qa_1\"].apply(lambda x: eval(x))\\ndf[\"qa_2\"] = df[\"qa_2\"].apply(lambda x: eval(x))\\n'"
      ]
     },
     "execution_count": 87,
     "metadata": {},
     "output_type": "execute_result"
    }
   ],
   "source": [
    "df = pd.read_csv(\"final_mturk_gold_cls_data.csv\")#if \\' is inside the csv because of mturk, need to find and replace in text editor, then use eval on qa_1&2\n",
    "'''\n",
    "df[\"qa_1\"] = df[\"qa_1\"].apply(lambda x: eval(x))\n",
    "df[\"qa_2\"] = df[\"qa_2\"].apply(lambda x: eval(x))\n",
    "'''"
   ]
  },
  {
   "cell_type": "code",
   "execution_count": 95,
   "metadata": {},
   "outputs": [],
   "source": [
    "for i, row in df.iterrows():\n",
    "    if type(row[\"prev_text_1\"]) != str:\n",
    "        row[\"prev_text_1\"] = \"NA\"\n",
    "    if type(row[\"prev_text_2\"]) != str:\n",
    "        row[\"prev_text_2\"] = \"NA\""
   ]
  },
  {
   "cell_type": "code",
   "execution_count": 99,
   "metadata": {},
   "outputs": [],
   "source": [
    "trap1 = [\n",
    "('20_8ecbplus_9','20_8ecbplus_3'),\n",
    "('45_7ecbplus_3','45_7ecbplus_1'),\n",
    "('45_10ecbplus_3','45_10ecbplus_4'),\n",
    "('D0620_319_13','D0620_319_12'),\n",
    "('D0614_50_3','D0614_50_4'),\n",
    "('10_18ecbplus_3','10_18ecbplus_1'),\n",
    "('D0605_219_5','D0605_219_4'),\n",
    "('D0603_83_8','D0603_83_9')]\n",
    "trap2 = [\n",
    "    ('D0605_219_5','D0605_219_4'),\n",
    "('D0605_172_11','D0605_172_12'),\n",
    "('30_3ecb_7','30_3ecb_1'),\n",
    "('35_2ecbplus_3','35_2ecbplus_1'),\n",
    "('10_1ecbplus_2','10_1ecbplus_1'),\n",
    "('5_5ecbplus_7','5_5ecbplus_2'),\n",
    "('D0603_67_6','D0603_67_7'),\n",
    "('D0608_40_3','D0608_40_5')\n",
    "]"
   ]
  },
  {
   "cell_type": "code",
   "execution_count": 100,
   "metadata": {},
   "outputs": [],
   "source": [
    "trap1_list = []\n",
    "trap2_list = []\n",
    "for pair in trap1:\n",
    "    t = df[(df.qasrl_id_1 == pair[0]) & (df.qasrl_id_2 == pair[1])]\n",
    "    if t.empty:\n",
    "        print(\"nope\")\n",
    "    trap1_list.append( t.index[0])\n",
    "\n",
    "for pair in trap2:\n",
    "    t = df[(df.qasrl_id_1 == pair[0]) & (df.qasrl_id_2 == pair[1])]\n",
    "    if t.empty:\n",
    "        print(\"nope\")\n",
    "    trap2_list.append(t.index[0])\n"
   ]
  },
  {
   "cell_type": "code",
   "execution_count": 101,
   "metadata": {},
   "outputs": [],
   "source": [
    "trap1_df = df[df.index.isin(trap1_list)]"
   ]
  },
  {
   "cell_type": "code",
   "execution_count": 102,
   "metadata": {},
   "outputs": [],
   "source": [
    "trap2_df = df[df.index.isin(trap2_list)]"
   ]
  },
  {
   "cell_type": "code",
   "execution_count": 103,
   "metadata": {},
   "outputs": [],
   "source": [
    "trap1_list.extend(trap2_list)"
   ]
  },
  {
   "cell_type": "code",
   "execution_count": 104,
   "metadata": {},
   "outputs": [],
   "source": [
    "new_df =  df[~(df.index.isin(trap1_list))]"
   ]
  },
  {
   "cell_type": "code",
   "execution_count": 105,
   "metadata": {},
   "outputs": [
    {
     "data": {
      "text/plain": [
       "100"
      ]
     },
     "execution_count": 105,
     "metadata": {},
     "output_type": "execute_result"
    }
   ],
   "source": [
    "len(new_df)"
   ]
  },
  {
   "cell_type": "code",
   "execution_count": 106,
   "metadata": {},
   "outputs": [],
   "source": [
    "new_df.to_csv(\"cls_gold_minus_trap12_mturk.csv\", index=False)"
   ]
  },
  {
   "cell_type": "code",
   "execution_count": 107,
   "metadata": {},
   "outputs": [],
   "source": [
    "trap1_df.to_csv(\"cls_gold_trap_1.csv\", index=False)\n",
    "trap2_df.to_csv(\"cls_gold_trap_2.csv\", index=False)"
   ]
  },
  {
   "cell_type": "code",
   "execution_count": 108,
   "metadata": {},
   "outputs": [],
   "source": [
    "combined = trap1_df.append(trap2_df)"
   ]
  },
  {
   "cell_type": "code",
   "execution_count": 109,
   "metadata": {},
   "outputs": [],
   "source": [
    "combined = combined.drop_duplicates()"
   ]
  },
  {
   "cell_type": "code",
   "execution_count": 110,
   "metadata": {},
   "outputs": [],
   "source": [
    "combined.to_csv(\"cls_sandbox_trap12.csv\", index=False)"
   ]
  }
 ],
 "metadata": {
  "kernelspec": {
   "display_name": "Python 3",
   "language": "python",
   "name": "python3"
  },
  "language_info": {
   "codemirror_mode": {
    "name": "ipython",
    "version": 3
   },
   "file_extension": ".py",
   "mimetype": "text/x-python",
   "name": "python",
   "nbconvert_exporter": "python",
   "pygments_lexer": "ipython3",
   "version": "3.6.8"
  }
 },
 "nbformat": 4,
 "nbformat_minor": 2
}
